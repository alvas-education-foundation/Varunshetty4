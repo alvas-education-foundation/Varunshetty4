{
  "nbformat": 4,
  "nbformat_minor": 0,
  "metadata": {
    "colab": {
      "name": "Day 1 sesson 1 Exercises",
      "provenance": [],
      "collapsed_sections": [],
      "authorship_tag": "ABX9TyP6K86CwRfN1TE8GqmzDAYX",
      "include_colab_link": true
    },
    "kernelspec": {
      "name": "python3",
      "display_name": "Python 3"
    }
  },
  "cells": [
    {
      "cell_type": "markdown",
      "metadata": {
        "id": "view-in-github",
        "colab_type": "text"
      },
      "source": [
        "<a href=\"https://colab.research.google.com/github/alvas-education-foundation/Varunshetty4/blob/master/Day_1_sesson_1_Exercises.ipynb\" target=\"_parent\"><img src=\"https://colab.research.google.com/assets/colab-badge.svg\" alt=\"Open In Colab\"/></a>"
      ]
    },
    {
      "cell_type": "markdown",
      "metadata": {
        "id": "LRlfBgG7IkUR",
        "colab_type": "text"
      },
      "source": [
        "#Compound Interest"
      ]
    },
    {
      "cell_type": "code",
      "metadata": {
        "id": "Xcof5fO4Incp",
        "colab_type": "code",
        "colab": {
          "base_uri": "https://localhost:8080/",
          "height": 85
        },
        "outputId": "2696ddf2-cbb9-4cff-bff2-ccda98ffdf32"
      },
      "source": [
        "try:\n",
        "  n=int(input('Enter the value of n: '))\n",
        "  print((float(input('Enter the value of P: ')))*((1+(float(input('Enter the value of r: ')))*(n/100))**n))\n",
        "except:print('Enter valid number')"
      ],
      "execution_count": 4,
      "outputs": [
        {
          "output_type": "stream",
          "text": [
            "Enter the value of n: 12\n",
            "Enter the value of P: 3515\n",
            "Enter the value of r: 6.8\n",
            "4521842.793476006\n"
          ],
          "name": "stdout"
        }
      ]
    },
    {
      "cell_type": "markdown",
      "metadata": {
        "id": "HYfvz5BWMFQJ",
        "colab_type": "text"
      },
      "source": [
        "#Centigrade to farenheit"
      ]
    },
    {
      "cell_type": "code",
      "metadata": {
        "id": "4jUPCuX6MSwk",
        "colab_type": "code",
        "colab": {
          "base_uri": "https://localhost:8080/",
          "height": 51
        },
        "outputId": "d898000d-e79e-4499-b295-066f99f44cdd"
      },
      "source": [
        "try:\n",
        "  print('Temperature in Faranheit is {}'.format(9/5*(float(input('Enter the temperature in Centigrade: ')))+32))\n",
        "except:\n",
        "  print(\"Enter valid temperature\")"
      ],
      "execution_count": 17,
      "outputs": [
        {
          "output_type": "stream",
          "text": [
            "Enter the temperature in Centigrade: 35.5\n",
            "Temperature in Faranheit is 95.9\n"
          ],
          "name": "stdout"
        }
      ]
    },
    {
      "cell_type": "markdown",
      "metadata": {
        "id": "GX9rZ3wsOIO4",
        "colab_type": "text"
      },
      "source": [
        "#Greater of two"
      ]
    },
    {
      "cell_type": "code",
      "metadata": {
        "id": "X9MFgvckOLEh",
        "colab_type": "code",
        "colab": {
          "base_uri": "https://localhost:8080/",
          "height": 85
        },
        "outputId": "672c8b2b-6ca8-4521-b154-753f9d5fbc04"
      },
      "source": [
        "try:\n",
        "  x,y=float(input(\"enter the numbers\\n\")),float(input())\n",
        "  print((x if x>y else y) if x!=y else \"the numbers are same\")\n",
        "except:\n",
        "  print(\"enter valid number\")"
      ],
      "execution_count": 25,
      "outputs": [
        {
          "output_type": "stream",
          "text": [
            "enter the numbers\n",
            "6454\n",
            "4644\n",
            "6454.0\n"
          ],
          "name": "stdout"
        }
      ]
    },
    {
      "cell_type": "markdown",
      "metadata": {
        "id": "HX8smBj8-0y4",
        "colab_type": "text"
      },
      "source": [
        "#Surface Area of Cylinder and Cone"
      ]
    },
    {
      "cell_type": "code",
      "metadata": {
        "id": "q7Z80KYB-52F",
        "colab_type": "code",
        "colab": {
          "base_uri": "https://localhost:8080/",
          "height": 153
        },
        "outputId": "c80e41b0-a9b7-4680-ecde-237d9a93b183"
      },
      "source": [
        "from math import pi\n",
        "try:\n",
        "  r1,h1=float(input('Enter the radius and height of the cylinder\\n')),float(input())\n",
        "  r2,h2=float(input('Enter the radius and height of the cone\\n')),float(input())\n",
        "  print('surface area of cylinder is %0.3f\\nsurface area of cone is %0.3f'%((2*pi*r1*r1*h1),((1/3)*pi*r2*r2*h2)))\n",
        "except:\n",
        "  print('Enter valid number')"
      ],
      "execution_count": 18,
      "outputs": [
        {
          "output_type": "stream",
          "text": [
            "Enter the radius and height of the cylinder\n",
            "21\n",
            "5\n",
            "Enter the radius and height of the cone\n",
            "25\n",
            "5\n",
            "surface area of cylinder is 13854.424\n",
            "surface area of cone is 3272.492\n"
          ],
          "name": "stdout"
        }
      ]
    },
    {
      "cell_type": "markdown",
      "metadata": {
        "id": "9Why0-ILCNgo",
        "colab_type": "text"
      },
      "source": [
        "#greater of four numbers"
      ]
    },
    {
      "cell_type": "code",
      "metadata": {
        "id": "HXvbngd9Cyne",
        "colab_type": "code",
        "colab": {
          "base_uri": "https://localhost:8080/",
          "height": 102
        },
        "outputId": "b12ec467-13e1-49c9-f8ac-3bddea10a476"
      },
      "source": [
        "def great(a):\n",
        "  if a[0]>a[1] and a[0]>a[2] and a[0]>a[3]:\n",
        "    return a[0]\n",
        "  elif a[1]>a[2] and a[1]>a[3]:\n",
        "    return a[1]\n",
        "  else:\n",
        "    return (a[2] if a[2]>a[3] else a[3])\n",
        "try:\n",
        "  a=[float(input('enter the number: ')) for _ in range(4)]\n",
        "  print(great(a))\n",
        "except:\n",
        "  print('Enter a valid number')"
      ],
      "execution_count": 25,
      "outputs": [
        {
          "output_type": "stream",
          "text": [
            "enter the number: 553\n",
            "enter the number: 54534\n",
            "enter the number: 5465\n",
            "enter the number: 515\n",
            "54534.0\n"
          ],
          "name": "stdout"
        }
      ]
    },
    {
      "cell_type": "markdown",
      "metadata": {
        "id": "mS_ffJdxFqr7",
        "colab_type": "text"
      },
      "source": [
        "#Menu program\n"
      ]
    },
    {
      "cell_type": "code",
      "metadata": {
        "id": "8Q7HXjUNF6CM",
        "colab_type": "code",
        "colab": {
          "base_uri": "https://localhost:8080/",
          "height": 153
        },
        "outputId": "2c3e07f7-9d93-46d5-ed1e-c1565f7fd8bf"
      },
      "source": [
        "def oe(a):\n",
        "  return ('EVEN' if a%2==0 else 'ODD')\n",
        "def factorial(n):\n",
        "  if n==1:\n",
        "    return 1\n",
        "  else:\n",
        "    return n*factorial(n-1)\n",
        "def oddupto(n):\n",
        "  return [i for i in range(1,n+1,2)]\n",
        "def prime(n):\n",
        "  if n==1:\n",
        "    return None\n",
        "  if n==2:\n",
        "    return 2\n",
        "  else:\n",
        "    a=[2]\n",
        "    for i in range(3,n+1):\n",
        "      for j in range(2,i):\n",
        "        if i%j==0:\n",
        "          break\n",
        "        elif j+1==i:\n",
        "          a.append(j+1)\n",
        "    return(a)\n",
        "try:\n",
        "  a,b=int(input(\"Enter your choice\\n1-find odd or even\\n2-find factorial\\n3-find odd numbers upto in range\\n4-prime numbers in range\\n\")),int(input('Enter the number to perform operation: '))\n",
        "  if a==1:\n",
        "    print(oe(b))\n",
        "  elif a==2:\n",
        "    print(factorial(b))\n",
        "  elif a==3:\n",
        "    print(*oddupto(b))\n",
        "  elif a==4:\n",
        "    print(*prime(b))\n",
        "  else:\n",
        "    print('Enter valid choice')\n",
        "except:\n",
        "  print('Enter valid inputs')"
      ],
      "execution_count": 63,
      "outputs": [
        {
          "output_type": "stream",
          "text": [
            "Enter your choice\n",
            "1-find odd or even\n",
            "2-find factorial\n",
            "3-find odd numbers upto in range\n",
            "4-prime numbers in range\n",
            "4\n",
            "Enter the number to perform operation: 26\n",
            "2 3 5 7 11 13 17 19 23\n"
          ],
          "name": "stdout"
        }
      ]
    },
    {
      "cell_type": "code",
      "metadata": {
        "id": "Ali3M57yH4Oj",
        "colab_type": "code",
        "colab": {}
      },
      "source": [
        "+1"
      ],
      "execution_count": null,
      "outputs": []
    }
  ]
}